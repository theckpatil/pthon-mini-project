{
 "cells": [
  {
   "cell_type": "markdown",
   "id": "7d3af4ce",
   "metadata": {},
   "source": [
    "## Periodic Table Details Find By Element Number"
   ]
  },
  {
   "cell_type": "code",
   "execution_count": 2,
   "id": "36942655",
   "metadata": {},
   "outputs": [
    {
     "name": "stdout",
     "output_type": "stream",
     "text": [
      "Collecting periodictable\n",
      "  Downloading periodictable-1.6.1-py2.py3-none-any.whl (752 kB)\n",
      "Requirement already satisfied: numpy in c:\\users\\patil\\anaconda3\\lib\\site-packages (from periodictable) (1.20.1)\n",
      "Requirement already satisfied: pyparsing in c:\\users\\patil\\anaconda3\\lib\\site-packages (from periodictable) (2.4.7)\n",
      "Installing collected packages: periodictable\n",
      "Successfully installed periodictable-1.6.1\n",
      "Note: you may need to restart the kernel to use updated packages.\n"
     ]
    }
   ],
   "source": [
    "pip install periodictable"
   ]
  },
  {
   "cell_type": "code",
   "execution_count": 3,
   "id": "71b2ccd7",
   "metadata": {},
   "outputs": [
    {
     "name": "stdout",
     "output_type": "stream",
     "text": [
      "Enter Element Atomic No: 79\n",
      "Atomic Number:  79\n",
      "Symbol:  Au\n",
      "Name:  gold\n",
      "Atomic Mass:  196.96655\n",
      "Density:  19.3\n"
     ]
    }
   ],
   "source": [
    "import periodictable\n",
    "\n",
    "Atomic_No = int(input(\"Enter Element Atomic No: \"))\n",
    "element = periodictable.elements[Atomic_No]\n",
    "print(\"Atomic Number: \",element.number)\n",
    "print(\"Symbol: \",element.symbol)\n",
    "print(\"Name: \",element.name)\n",
    "print(\"Atomic Mass: \",element.mass)\n",
    "print(\"Density: \",element.density)"
   ]
  },
  {
   "cell_type": "code",
   "execution_count": null,
   "id": "0ec48586",
   "metadata": {},
   "outputs": [],
   "source": []
  }
 ],
 "metadata": {
  "kernelspec": {
   "display_name": "Python 3",
   "language": "python",
   "name": "python3"
  },
  "language_info": {
   "codemirror_mode": {
    "name": "ipython",
    "version": 3
   },
   "file_extension": ".py",
   "mimetype": "text/x-python",
   "name": "python",
   "nbconvert_exporter": "python",
   "pygments_lexer": "ipython3",
   "version": "3.8.8"
  }
 },
 "nbformat": 4,
 "nbformat_minor": 5
}
